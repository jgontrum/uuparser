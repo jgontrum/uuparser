{
 "cells": [
  {
   "cell_type": "code",
   "execution_count": 32,
   "metadata": {
    "ExecuteTime": {
     "end_time": "2018-11-04T14:04:55.362318Z",
     "start_time": "2018-11-04T14:04:55.351892Z"
    }
   },
   "outputs": [],
   "source": [
    "from __future__ import print_function\n",
    "from __future__ import division\n",
    "\n",
    "import dynet_config\n",
    "import dynet as dy\n",
    "\n",
    "import numpy as np"
   ]
  },
  {
   "cell_type": "code",
   "execution_count": 34,
   "metadata": {
    "ExecuteTime": {
     "end_time": "2018-11-04T14:06:06.883815Z",
     "start_time": "2018-11-04T14:06:06.751945Z"
    },
    "scrolled": false
   },
   "outputs": [
    {
     "name": "stdout",
     "output_type": "stream",
     "text": [
      "[0.9999998807907104, 1.999999761581421, 2.999999523162842, 3.999999523162842]\n"
     ]
    }
   ],
   "source": [
    "# Reset the global cg\n",
    "dy.renew_cg()\n",
    "\n",
    "# Our Data \n",
    "x = np.array([1, 2, 3, 4])\n",
    "y = np.zeros(4)\n",
    "\n",
    "model = dy.ParameterCollection()\n",
    "W = model.add_parameters(4, init=0.5)\n",
    "trainer = dy.SimpleSGDTrainer(model)\n",
    "\n",
    "# Idea: Learn weights until they have the same value as x.\n",
    "for epoch in range(1000):\n",
    "    dy.renew_cg()\n",
    "    \n",
    "    # Do this to avoid \"stale expression\" - whatever that means\n",
    "    x_ = dy.inputTensor(x)\n",
    "    y_ = dy.inputTensor(y)\n",
    "    \n",
    "    out = W - x_\n",
    "    loss = dy.squared_distance(out, y_)\n",
    "    \n",
    "    loss.backward()\n",
    "    trainer.update()\n",
    "    \n",
    "print(W.value())"
   ]
  }
 ],
 "metadata": {
  "kernelspec": {
   "display_name": "dynet",
   "language": "python",
   "name": "python2"
  },
  "language_info": {
   "codemirror_mode": {
    "name": "ipython",
    "version": 2
   },
   "file_extension": ".py",
   "mimetype": "text/x-python",
   "name": "python",
   "nbconvert_exporter": "python",
   "pygments_lexer": "ipython2",
   "version": "2.7.10"
  },
  "toc": {
   "base_numbering": 1,
   "nav_menu": {},
   "number_sections": true,
   "sideBar": true,
   "skip_h1_title": false,
   "title_cell": "Table of Contents",
   "title_sidebar": "Contents",
   "toc_cell": false,
   "toc_position": {},
   "toc_section_display": true,
   "toc_window_display": false
  }
 },
 "nbformat": 4,
 "nbformat_minor": 2
}
